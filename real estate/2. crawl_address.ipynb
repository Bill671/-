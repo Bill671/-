{
 "cells": [
  {
   "cell_type": "markdown",
   "id": "0a5f53fe",
   "metadata": {},
   "source": [
    "## 把資料切割成三份"
   ]
  },
  {
   "cell_type": "code",
   "execution_count": 92,
   "id": "1c514167",
   "metadata": {},
   "outputs": [
    {
     "data": {
      "text/plain": [
       "交易年月日\n",
       "2020-11-09      中山北路七段１１４巷６１弄２之４號五樓\n",
       "2020-10-30             延平北路六段４７７號十樓\n",
       "2020-10-20             文林北路９４巷３３號十樓\n",
       "2020-12-11               中正路２１３巷４４號\n",
       "2020-11-01         忠孝東路三段２１７巷６弄９號七樓\n",
       "                      ...          \n",
       "2021-11-27         臺北市中山區松江路２７號七樓之５\n",
       "2021-11-06         臺北市信義區松勤街９號八樓之１１\n",
       "2021-11-02      臺北市信義區基隆路二段１７７號五樓之５\n",
       "2021-11-10       臺北市松山區三民路６８巷５號四樓之３\n",
       "2021-10-26    臺北市松山區南京東路四段１３３巷６弄２６號\n",
       "Name: 土地位置建物門牌, Length: 8755, dtype: object"
      ]
     },
     "execution_count": 92,
     "metadata": {},
     "output_type": "execute_result"
    }
   ],
   "source": [
    "# import gc\n",
    "# import pandas as pd\n",
    "# import os\n",
    "\n",
    "## 0-25746\n",
    "# new_dir = os.path.join('house_data','new_data.pkl')\n",
    "# df = pd.read_pickle(new_dir)\n",
    "# df = df['土地位置建物門牌']\n",
    "# gc.collect()\n",
    "\n",
    "## get 25747 to last\n",
    "# import numpy as np\n",
    "# th1,th2,th3 = np.array_split(df.iloc[25747:], 3)\n",
    "# th3"
   ]
  },
  {
   "cell_type": "markdown",
   "id": "8f5f7023",
   "metadata": {},
   "source": [
    "## 把批次輸出的檔案整理成1個檔案"
   ]
  },
  {
   "cell_type": "code",
   "execution_count": 83,
   "id": "3d95578f",
   "metadata": {},
   "outputs": [],
   "source": [
    "# PACK CSV TO ONE FILE\n",
    "import os \n",
    "import re\n",
    "import gc\n",
    "import pandas as pd\n",
    "l = os.listdir(os.path.join('output','house'))[1:]\n",
    "st='house_addr'\n",
    "end='.csv'\n",
    "l.sort(key= lambda x: int(x.strip(st).strip(end)))\n",
    "\n",
    "f = 0\n",
    "df = []\n",
    "for i in l:\n",
    "    if len(df) == 0:\n",
    "#         print(f)\n",
    "        df=pd.read_csv('output/house/%s'%(i),index_col=0).reset_index(drop=True)\n",
    "        f+=1\n",
    "    else:\n",
    "#         print(f,'collect')\n",
    "        tmp = pd.read_csv('output/house/%s'%(i),index_col=0).reset_index(drop=True)\n",
    "        df = df.reset_index(drop=True).append(tmp)\n",
    "        gc.collect()\n",
    "        f+=1"
   ]
  },
  {
   "cell_type": "markdown",
   "id": "877dccdb",
   "metadata": {},
   "source": [
    "## 檢查錯誤"
   ]
  },
  {
   "cell_type": "code",
   "execution_count": 87,
   "id": "11074f5e",
   "metadata": {},
   "outputs": [],
   "source": [
    "## 中間有兩筆資料重複抓，已drop掉\n",
    "# df.iloc[:,0].reset_index(drop=True).to_csv('house_addr25746_al.csv')"
   ]
  },
  {
   "cell_type": "markdown",
   "id": "2a8a9710",
   "metadata": {},
   "source": [
    "## 主程式"
   ]
  },
  {
   "cell_type": "code",
   "execution_count": null,
   "id": "55f7ba58",
   "metadata": {
    "scrolled": true
   },
   "outputs": [
    {
     "name": "stdout",
     "output_type": "stream",
     "text": [
      "25746 臺北市北投區公?路228巷111號3樓\n",
      "25747 臺北市北投區大屯路２１巷２弄３號２樓\n",
      "25748 臺北市中山區松江路２８號３樓之３\n",
      "25749 臺北市內湖區康寧路三段１８９巷２１弄２３號６樓之５\n",
      "25750 臺北市萬華區長泰街236號\n",
      "25751 臺北市大安區和平東路三段２１２巷４８號十樓\n",
      "25752 臺北市大安區樂利路5巷33號5樓\n",
      "25753 臺北市北投區文林北路２８４巷６號\n",
      "25754 臺北市北投區行義路１５４巷２３號二樓之１\n",
      "25755 臺北市士林區天母東路１０５巷９弄４號三樓\n",
      "25756 臺北市北投區大興街２４巷７弄２號四樓\n",
      "25757 臺北市信義區和平東路三段３９１巷８弄１６之１號三樓\n",
      "25758 臺北市松山區新東街１２巷３號２樓\n",
      "25759 臺北市松山區民生東路四段７５巷５弄５號四樓\n",
      "25760 臺北市松山區民生東路四段77號\n",
      "25761 臺北市信義區信義路五段14巷1弄6號6樓\n",
      "25762 臺北市松山區八德路三段８巷２９號七樓\n",
      "25763 臺北市信義區吳興街６００巷９８弄１３號\n",
      "25764 臺北市中山區中山北路一段１１３號２２樓\n",
      "25765 臺北市內湖區內湖路１段47巷34之2號3樓\n",
      "25766 臺北市內湖區民權東路六段180巷70弄23號3樓\n",
      "25767 臺北市內湖區民權東路六段180巷70弄23號7樓\n",
      "25768 臺北市中山區通北街６５巷２弄２３號\n",
      "25769 臺北市中山區新生北路二段68巷13號二樓之3\n",
      "25770 臺北市內湖區內湖路三段１４３巷３４號二樓\n",
      "25771 臺北市內湖區康寧路三段９９巷３９弄３１號五樓\n",
      "25772 臺北市內湖區新湖一路１５１號七樓\n",
      "25773 臺北市萬華區桂林路１２８號１３樓之３\n",
      "25774 臺北市萬華區桂林路１２８號１０樓之２\n",
      "25775 臺北市萬華區康定路６０號４樓之１\n",
      "25776 臺北市中正區衡陽路２６號十一樓之１\n",
      "25777 臺北市大同區重慶北路二段１５０號五樓\n",
      "25778 臺北市大同區南京西路１８巷６弄５號二樓\n"
     ]
    }
   ],
   "source": [
    "# Get address name\n",
    "import os\n",
    "import pandas as pd\n",
    "import gc \n",
    "new_dir = os.path.join('house_data','new_data.pkl')\n",
    "df = pd.read_pickle(new_dir)\n",
    "df = df['土地位置建物門牌']\n",
    "gc.collect()\n",
    "\n",
    "## 把路段轉成經緯度\n",
    "from function.distance import get_coordinate, greatCircleDistance\n",
    "import time\n",
    "import random\n",
    "li = []\n",
    "\n",
    "# initialize t\n",
    "t = 25746  # 第一次執行時打開  18623\n",
    "\n",
    "for col in df.iloc[t:]:# adam 改成 df.iloc[t+1:]\n",
    "    i = 3\n",
    "    while i>0:\n",
    "        try: \n",
    "            time.sleep(8 + random.uniform(0,10 ))\n",
    "            print(t,col)      # print(t,col)            \n",
    "            li.append(get_coordinate(col))\n",
    "            i-=3\n",
    "            t+=1 # record index\n",
    "        except:\n",
    "            print(t,'err')\n",
    "            time.sleep(60)\n",
    "            i-=2\n",
    "    if i==-1:\n",
    "        t+=1 # record index\n",
    "        li.append(\"nan\")\n",
    "    if len(li)>1000:    # 大於2500筆時匯出   >1000\n",
    "        pd.Series(li).to_csv(os.path.join('output','house','house_addr'+str(t)+'.csv'))\n",
    "        li=[]\n",
    "        gc.collect() # 回收記憶體\n",
    "pd.Series(li).to_csv(os.path.join('output','house','house_addr_final.csv'))"
   ]
  },
  {
   "cell_type": "code",
   "execution_count": 2,
   "id": "b970bfcb",
   "metadata": {},
   "outputs": [],
   "source": [
    "## Record到第t筆斷掉，上面iloc從t+1開始 ex iloc[t+1:]\n",
    "pd.Series(li).to_csv('house_addr_aaa.csv')"
   ]
  },
  {
   "cell_type": "code",
   "execution_count": null,
   "id": "0f3799c0",
   "metadata": {},
   "outputs": [],
   "source": []
  }
 ],
 "metadata": {
  "kernelspec": {
   "display_name": "finlab",
   "language": "python",
   "name": "finlab"
  },
  "language_info": {
   "codemirror_mode": {
    "name": "ipython",
    "version": 3
   },
   "file_extension": ".py",
   "mimetype": "text/x-python",
   "name": "python",
   "nbconvert_exporter": "python",
   "pygments_lexer": "ipython3",
   "version": "3.7.11"
  }
 },
 "nbformat": 4,
 "nbformat_minor": 5
}
